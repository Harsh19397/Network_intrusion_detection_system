{
 "cells": [
  {
   "cell_type": "markdown",
   "metadata": {},
   "source": [
    "# Dataset Preparation "
   ]
  },
  {
   "cell_type": "markdown",
   "metadata": {},
   "source": [
    "## Importing Libraries"
   ]
  },
  {
   "cell_type": "code",
   "execution_count": 96,
   "metadata": {},
   "outputs": [],
   "source": [
    "import numpy as np\n",
    "import pandas as pd\n",
    "import matplotlib.pyplot as plt\n",
    "import seaborn as sns\n",
    "import pickle\n",
    "import os\n",
    "\n",
    "from sklearn.preprocessing import StandardScaler\n",
    "from sklearn.preprocessing import LabelEncoder\n",
    "from sklearn.preprocessing import OneHotEncoder\n",
    "\n",
    "from sklearn.model_selection import train_test_split\n",
    "\n",
    "import warnings\n",
    "warnings.filterwarnings('ignore')\n",
    "\n",
    "#File path to save files\n",
    "saved_files_path = 'saved_files/'\n",
    "\n",
    "#Dictionary to save the important parameters\n",
    "saved_params = {}"
   ]
  },
  {
   "cell_type": "markdown",
   "metadata": {},
   "source": [
    "## Loading features dataset "
   ]
  },
  {
   "cell_type": "code",
   "execution_count": 97,
   "metadata": {},
   "outputs": [],
   "source": [
    "#Loading features dataset\n",
    "features = pd.read_csv('dataset/features/UNSW_NB15_features.csv')\n",
    "\n",
    "#Getting all the non important columns which we would need to drop from the dataset\n",
    "mandatory_to_drop = ['srcip', 'sport', 'dstip', 'dsport', 'stime', 'ltime', 'attack_cat']\n",
    "\n",
    "#Saving the impotant parameters in a dictionary\n",
    "saved_params['mandatory_to_drop'] = mandatory_to_drop"
   ]
  },
  {
   "cell_type": "markdown",
   "metadata": {},
   "source": [
    "## Loading 4 train dataset and merging them"
   ]
  },
  {
   "cell_type": "code",
   "execution_count": 56,
   "metadata": {},
   "outputs": [
    {
     "name": "stdout",
     "output_type": "stream",
     "text": [
      "(700000, 42)\n",
      "(700000, 42)\n"
     ]
    }
   ],
   "source": [
    "#Train data 1\n",
    "train_data1 = pd.read_csv('dataset/UNSW-NB15_1.csv')\n",
    "train_data1.columns = [i.lower() for i in features['Name'].values] #Converting all the columns to lower case\n",
    "train_data1.drop(mandatory_to_drop, axis=1, inplace=True) #Dropping  all the not important columns\n",
    "print(train_data1.shape) #Out put shape of the dataset"
   ]
  },
  {
   "cell_type": "code",
   "execution_count": 57,
   "metadata": {},
   "outputs": [
    {
     "name": "stdout",
     "output_type": "stream",
     "text": [
      "(700000, 42)\n"
     ]
    }
   ],
   "source": [
    "#Train data 2\n",
    "train_data2 = pd.read_csv('dataset/UNSW-NB15_2.csv')\n",
    "train_data2.columns = [i.lower() for i in features['Name'].values]#Converting all the columns to lower case\n",
    "train_data2.drop(mandatory_to_drop, axis=1, inplace=True)#Dropping  all the not important columns\n",
    "print(train_data2.shape)#Out put shape of the dataset"
   ]
  },
  {
   "cell_type": "code",
   "execution_count": 58,
   "metadata": {},
   "outputs": [
    {
     "name": "stdout",
     "output_type": "stream",
     "text": [
      "(700000, 42)\n"
     ]
    }
   ],
   "source": [
    "#Train data 3\n",
    "train_data3 = pd.read_csv('dataset/UNSW-NB15_3.csv')\n",
    "train_data3.columns = [i.lower() for i in features['Name'].values]#Converting all the columns to lower case\n",
    "train_data3.drop(mandatory_to_drop, axis=1, inplace=True)#Dropping  all the not important columns\n",
    "print(train_data3.shape)#Out put shape of the dataset"
   ]
  },
  {
   "cell_type": "code",
   "execution_count": 59,
   "metadata": {},
   "outputs": [
    {
     "name": "stdout",
     "output_type": "stream",
     "text": [
      "(440043, 42)\n"
     ]
    }
   ],
   "source": [
    "#Train data 4\n",
    "train_data4 = pd.read_csv('dataset/UNSW-NB15_4.csv')\n",
    "train_data4.columns = [i.lower() for i in features['Name'].values]#Converting all the columns to lower case\n",
    "train_data4.drop(mandatory_to_drop, axis=1, inplace=True)#Dropping  all the not important columns\n",
    "print(train_data4.shape)#Out put shape of the dataset"
   ]
  },
  {
   "cell_type": "code",
   "execution_count": 60,
   "metadata": {},
   "outputs": [
    {
     "name": "stdout",
     "output_type": "stream",
     "text": [
      "(1400000, 42)\n"
     ]
    },
    {
     "data": {
      "text/html": [
       "<div>\n",
       "<style scoped>\n",
       "    .dataframe tbody tr th:only-of-type {\n",
       "        vertical-align: middle;\n",
       "    }\n",
       "\n",
       "    .dataframe tbody tr th {\n",
       "        vertical-align: top;\n",
       "    }\n",
       "\n",
       "    .dataframe thead th {\n",
       "        text-align: right;\n",
       "    }\n",
       "</style>\n",
       "<table border=\"1\" class=\"dataframe\">\n",
       "  <thead>\n",
       "    <tr style=\"text-align: right;\">\n",
       "      <th></th>\n",
       "      <th>proto</th>\n",
       "      <th>state</th>\n",
       "      <th>dur</th>\n",
       "      <th>sbytes</th>\n",
       "      <th>dbytes</th>\n",
       "      <th>sttl</th>\n",
       "      <th>dttl</th>\n",
       "      <th>sloss</th>\n",
       "      <th>dloss</th>\n",
       "      <th>service</th>\n",
       "      <th>...</th>\n",
       "      <th>is_ftp_login</th>\n",
       "      <th>ct_ftp_cmd</th>\n",
       "      <th>ct_srv_src</th>\n",
       "      <th>ct_srv_dst</th>\n",
       "      <th>ct_dst_ltm</th>\n",
       "      <th>ct_src_ltm</th>\n",
       "      <th>ct_src_dport_ltm</th>\n",
       "      <th>ct_dst_sport_ltm</th>\n",
       "      <th>ct_dst_src_ltm</th>\n",
       "      <th>label</th>\n",
       "    </tr>\n",
       "  </thead>\n",
       "  <tbody>\n",
       "    <tr>\n",
       "      <th>0</th>\n",
       "      <td>udp</td>\n",
       "      <td>CON</td>\n",
       "      <td>0.036133</td>\n",
       "      <td>528</td>\n",
       "      <td>304</td>\n",
       "      <td>31</td>\n",
       "      <td>29</td>\n",
       "      <td>0</td>\n",
       "      <td>0</td>\n",
       "      <td>-</td>\n",
       "      <td>...</td>\n",
       "      <td>0.0</td>\n",
       "      <td>0</td>\n",
       "      <td>2</td>\n",
       "      <td>4</td>\n",
       "      <td>2</td>\n",
       "      <td>3</td>\n",
       "      <td>1</td>\n",
       "      <td>1</td>\n",
       "      <td>2</td>\n",
       "      <td>0</td>\n",
       "    </tr>\n",
       "    <tr>\n",
       "      <th>1</th>\n",
       "      <td>udp</td>\n",
       "      <td>CON</td>\n",
       "      <td>0.001119</td>\n",
       "      <td>146</td>\n",
       "      <td>178</td>\n",
       "      <td>31</td>\n",
       "      <td>29</td>\n",
       "      <td>0</td>\n",
       "      <td>0</td>\n",
       "      <td>dns</td>\n",
       "      <td>...</td>\n",
       "      <td>0.0</td>\n",
       "      <td>0</td>\n",
       "      <td>12</td>\n",
       "      <td>8</td>\n",
       "      <td>1</td>\n",
       "      <td>2</td>\n",
       "      <td>2</td>\n",
       "      <td>1</td>\n",
       "      <td>1</td>\n",
       "      <td>0</td>\n",
       "    </tr>\n",
       "    <tr>\n",
       "      <th>2</th>\n",
       "      <td>udp</td>\n",
       "      <td>CON</td>\n",
       "      <td>0.001209</td>\n",
       "      <td>132</td>\n",
       "      <td>164</td>\n",
       "      <td>31</td>\n",
       "      <td>29</td>\n",
       "      <td>0</td>\n",
       "      <td>0</td>\n",
       "      <td>dns</td>\n",
       "      <td>...</td>\n",
       "      <td>0.0</td>\n",
       "      <td>0</td>\n",
       "      <td>6</td>\n",
       "      <td>9</td>\n",
       "      <td>1</td>\n",
       "      <td>1</td>\n",
       "      <td>1</td>\n",
       "      <td>1</td>\n",
       "      <td>1</td>\n",
       "      <td>0</td>\n",
       "    </tr>\n",
       "    <tr>\n",
       "      <th>3</th>\n",
       "      <td>udp</td>\n",
       "      <td>CON</td>\n",
       "      <td>0.001169</td>\n",
       "      <td>146</td>\n",
       "      <td>178</td>\n",
       "      <td>31</td>\n",
       "      <td>29</td>\n",
       "      <td>0</td>\n",
       "      <td>0</td>\n",
       "      <td>dns</td>\n",
       "      <td>...</td>\n",
       "      <td>0.0</td>\n",
       "      <td>0</td>\n",
       "      <td>7</td>\n",
       "      <td>9</td>\n",
       "      <td>1</td>\n",
       "      <td>1</td>\n",
       "      <td>1</td>\n",
       "      <td>1</td>\n",
       "      <td>1</td>\n",
       "      <td>0</td>\n",
       "    </tr>\n",
       "    <tr>\n",
       "      <th>4</th>\n",
       "      <td>udp</td>\n",
       "      <td>CON</td>\n",
       "      <td>0.078339</td>\n",
       "      <td>568</td>\n",
       "      <td>312</td>\n",
       "      <td>31</td>\n",
       "      <td>29</td>\n",
       "      <td>0</td>\n",
       "      <td>0</td>\n",
       "      <td>-</td>\n",
       "      <td>...</td>\n",
       "      <td>0.0</td>\n",
       "      <td>0</td>\n",
       "      <td>2</td>\n",
       "      <td>4</td>\n",
       "      <td>2</td>\n",
       "      <td>3</td>\n",
       "      <td>1</td>\n",
       "      <td>1</td>\n",
       "      <td>2</td>\n",
       "      <td>0</td>\n",
       "    </tr>\n",
       "  </tbody>\n",
       "</table>\n",
       "<p>5 rows × 42 columns</p>\n",
       "</div>"
      ],
      "text/plain": [
       "  proto state       dur  sbytes  dbytes  sttl  dttl  sloss  dloss service  \\\n",
       "0   udp   CON  0.036133     528     304    31    29      0      0       -   \n",
       "1   udp   CON  0.001119     146     178    31    29      0      0     dns   \n",
       "2   udp   CON  0.001209     132     164    31    29      0      0     dns   \n",
       "3   udp   CON  0.001169     146     178    31    29      0      0     dns   \n",
       "4   udp   CON  0.078339     568     312    31    29      0      0       -   \n",
       "\n",
       "   ...  is_ftp_login  ct_ftp_cmd  ct_srv_src  ct_srv_dst  ct_dst_ltm  \\\n",
       "0  ...           0.0           0           2           4           2   \n",
       "1  ...           0.0           0          12           8           1   \n",
       "2  ...           0.0           0           6           9           1   \n",
       "3  ...           0.0           0           7           9           1   \n",
       "4  ...           0.0           0           2           4           2   \n",
       "\n",
       "   ct_src_ltm  ct_src_dport_ltm  ct_dst_sport_ltm  ct_dst_src_ltm  label  \n",
       "0           3                 1                 1               2      0  \n",
       "1           2                 2                 1               1      0  \n",
       "2           1                 1                 1               1      0  \n",
       "3           1                 1                 1               1      0  \n",
       "4           3                 1                 1               2      0  \n",
       "\n",
       "[5 rows x 42 columns]"
      ]
     },
     "execution_count": 60,
     "metadata": {},
     "output_type": "execute_result"
    }
   ],
   "source": [
    "#Merging datasets\n",
    "train_data_temp1 = train_data1.append(train_data2)\n",
    "print(train_data_temp1.shape)\n",
    "train_data_temp1.head()"
   ]
  },
  {
   "cell_type": "code",
   "execution_count": 61,
   "metadata": {},
   "outputs": [
    {
     "name": "stdout",
     "output_type": "stream",
     "text": [
      "(2100000, 42)\n"
     ]
    },
    {
     "data": {
      "text/html": [
       "<div>\n",
       "<style scoped>\n",
       "    .dataframe tbody tr th:only-of-type {\n",
       "        vertical-align: middle;\n",
       "    }\n",
       "\n",
       "    .dataframe tbody tr th {\n",
       "        vertical-align: top;\n",
       "    }\n",
       "\n",
       "    .dataframe thead th {\n",
       "        text-align: right;\n",
       "    }\n",
       "</style>\n",
       "<table border=\"1\" class=\"dataframe\">\n",
       "  <thead>\n",
       "    <tr style=\"text-align: right;\">\n",
       "      <th></th>\n",
       "      <th>proto</th>\n",
       "      <th>state</th>\n",
       "      <th>dur</th>\n",
       "      <th>sbytes</th>\n",
       "      <th>dbytes</th>\n",
       "      <th>sttl</th>\n",
       "      <th>dttl</th>\n",
       "      <th>sloss</th>\n",
       "      <th>dloss</th>\n",
       "      <th>service</th>\n",
       "      <th>...</th>\n",
       "      <th>is_ftp_login</th>\n",
       "      <th>ct_ftp_cmd</th>\n",
       "      <th>ct_srv_src</th>\n",
       "      <th>ct_srv_dst</th>\n",
       "      <th>ct_dst_ltm</th>\n",
       "      <th>ct_src_ltm</th>\n",
       "      <th>ct_src_dport_ltm</th>\n",
       "      <th>ct_dst_sport_ltm</th>\n",
       "      <th>ct_dst_src_ltm</th>\n",
       "      <th>label</th>\n",
       "    </tr>\n",
       "  </thead>\n",
       "  <tbody>\n",
       "    <tr>\n",
       "      <th>0</th>\n",
       "      <td>udp</td>\n",
       "      <td>CON</td>\n",
       "      <td>0.036133</td>\n",
       "      <td>528</td>\n",
       "      <td>304</td>\n",
       "      <td>31</td>\n",
       "      <td>29</td>\n",
       "      <td>0</td>\n",
       "      <td>0</td>\n",
       "      <td>-</td>\n",
       "      <td>...</td>\n",
       "      <td>0.0</td>\n",
       "      <td>0</td>\n",
       "      <td>2</td>\n",
       "      <td>4</td>\n",
       "      <td>2</td>\n",
       "      <td>3</td>\n",
       "      <td>1</td>\n",
       "      <td>1</td>\n",
       "      <td>2</td>\n",
       "      <td>0</td>\n",
       "    </tr>\n",
       "    <tr>\n",
       "      <th>1</th>\n",
       "      <td>udp</td>\n",
       "      <td>CON</td>\n",
       "      <td>0.001119</td>\n",
       "      <td>146</td>\n",
       "      <td>178</td>\n",
       "      <td>31</td>\n",
       "      <td>29</td>\n",
       "      <td>0</td>\n",
       "      <td>0</td>\n",
       "      <td>dns</td>\n",
       "      <td>...</td>\n",
       "      <td>0.0</td>\n",
       "      <td>0</td>\n",
       "      <td>12</td>\n",
       "      <td>8</td>\n",
       "      <td>1</td>\n",
       "      <td>2</td>\n",
       "      <td>2</td>\n",
       "      <td>1</td>\n",
       "      <td>1</td>\n",
       "      <td>0</td>\n",
       "    </tr>\n",
       "    <tr>\n",
       "      <th>2</th>\n",
       "      <td>udp</td>\n",
       "      <td>CON</td>\n",
       "      <td>0.001209</td>\n",
       "      <td>132</td>\n",
       "      <td>164</td>\n",
       "      <td>31</td>\n",
       "      <td>29</td>\n",
       "      <td>0</td>\n",
       "      <td>0</td>\n",
       "      <td>dns</td>\n",
       "      <td>...</td>\n",
       "      <td>0.0</td>\n",
       "      <td>0</td>\n",
       "      <td>6</td>\n",
       "      <td>9</td>\n",
       "      <td>1</td>\n",
       "      <td>1</td>\n",
       "      <td>1</td>\n",
       "      <td>1</td>\n",
       "      <td>1</td>\n",
       "      <td>0</td>\n",
       "    </tr>\n",
       "    <tr>\n",
       "      <th>3</th>\n",
       "      <td>udp</td>\n",
       "      <td>CON</td>\n",
       "      <td>0.001169</td>\n",
       "      <td>146</td>\n",
       "      <td>178</td>\n",
       "      <td>31</td>\n",
       "      <td>29</td>\n",
       "      <td>0</td>\n",
       "      <td>0</td>\n",
       "      <td>dns</td>\n",
       "      <td>...</td>\n",
       "      <td>0.0</td>\n",
       "      <td>0</td>\n",
       "      <td>7</td>\n",
       "      <td>9</td>\n",
       "      <td>1</td>\n",
       "      <td>1</td>\n",
       "      <td>1</td>\n",
       "      <td>1</td>\n",
       "      <td>1</td>\n",
       "      <td>0</td>\n",
       "    </tr>\n",
       "    <tr>\n",
       "      <th>4</th>\n",
       "      <td>udp</td>\n",
       "      <td>CON</td>\n",
       "      <td>0.078339</td>\n",
       "      <td>568</td>\n",
       "      <td>312</td>\n",
       "      <td>31</td>\n",
       "      <td>29</td>\n",
       "      <td>0</td>\n",
       "      <td>0</td>\n",
       "      <td>-</td>\n",
       "      <td>...</td>\n",
       "      <td>0.0</td>\n",
       "      <td>0</td>\n",
       "      <td>2</td>\n",
       "      <td>4</td>\n",
       "      <td>2</td>\n",
       "      <td>3</td>\n",
       "      <td>1</td>\n",
       "      <td>1</td>\n",
       "      <td>2</td>\n",
       "      <td>0</td>\n",
       "    </tr>\n",
       "  </tbody>\n",
       "</table>\n",
       "<p>5 rows × 42 columns</p>\n",
       "</div>"
      ],
      "text/plain": [
       "  proto state       dur  sbytes  dbytes  sttl  dttl  sloss  dloss service  \\\n",
       "0   udp   CON  0.036133     528     304    31    29      0      0       -   \n",
       "1   udp   CON  0.001119     146     178    31    29      0      0     dns   \n",
       "2   udp   CON  0.001209     132     164    31    29      0      0     dns   \n",
       "3   udp   CON  0.001169     146     178    31    29      0      0     dns   \n",
       "4   udp   CON  0.078339     568     312    31    29      0      0       -   \n",
       "\n",
       "   ...  is_ftp_login  ct_ftp_cmd  ct_srv_src  ct_srv_dst  ct_dst_ltm  \\\n",
       "0  ...           0.0           0           2           4           2   \n",
       "1  ...           0.0           0          12           8           1   \n",
       "2  ...           0.0           0           6           9           1   \n",
       "3  ...           0.0           0           7           9           1   \n",
       "4  ...           0.0           0           2           4           2   \n",
       "\n",
       "   ct_src_ltm  ct_src_dport_ltm  ct_dst_sport_ltm  ct_dst_src_ltm  label  \n",
       "0           3                 1                 1               2      0  \n",
       "1           2                 2                 1               1      0  \n",
       "2           1                 1                 1               1      0  \n",
       "3           1                 1                 1               1      0  \n",
       "4           3                 1                 1               2      0  \n",
       "\n",
       "[5 rows x 42 columns]"
      ]
     },
     "execution_count": 61,
     "metadata": {},
     "output_type": "execute_result"
    }
   ],
   "source": [
    "#Merging datasets\n",
    "train_data_temp2 = train_data_temp1.append(train_data3)\n",
    "print(train_data_temp2.shape)\n",
    "train_data_temp2.head()"
   ]
  },
  {
   "cell_type": "code",
   "execution_count": 62,
   "metadata": {},
   "outputs": [
    {
     "name": "stdout",
     "output_type": "stream",
     "text": [
      "(2540043, 42)\n"
     ]
    },
    {
     "data": {
      "text/html": [
       "<div>\n",
       "<style scoped>\n",
       "    .dataframe tbody tr th:only-of-type {\n",
       "        vertical-align: middle;\n",
       "    }\n",
       "\n",
       "    .dataframe tbody tr th {\n",
       "        vertical-align: top;\n",
       "    }\n",
       "\n",
       "    .dataframe thead th {\n",
       "        text-align: right;\n",
       "    }\n",
       "</style>\n",
       "<table border=\"1\" class=\"dataframe\">\n",
       "  <thead>\n",
       "    <tr style=\"text-align: right;\">\n",
       "      <th></th>\n",
       "      <th>proto</th>\n",
       "      <th>state</th>\n",
       "      <th>dur</th>\n",
       "      <th>sbytes</th>\n",
       "      <th>dbytes</th>\n",
       "      <th>sttl</th>\n",
       "      <th>dttl</th>\n",
       "      <th>sloss</th>\n",
       "      <th>dloss</th>\n",
       "      <th>service</th>\n",
       "      <th>...</th>\n",
       "      <th>is_ftp_login</th>\n",
       "      <th>ct_ftp_cmd</th>\n",
       "      <th>ct_srv_src</th>\n",
       "      <th>ct_srv_dst</th>\n",
       "      <th>ct_dst_ltm</th>\n",
       "      <th>ct_src_ltm</th>\n",
       "      <th>ct_src_dport_ltm</th>\n",
       "      <th>ct_dst_sport_ltm</th>\n",
       "      <th>ct_dst_src_ltm</th>\n",
       "      <th>label</th>\n",
       "    </tr>\n",
       "  </thead>\n",
       "  <tbody>\n",
       "    <tr>\n",
       "      <th>0</th>\n",
       "      <td>udp</td>\n",
       "      <td>CON</td>\n",
       "      <td>0.036133</td>\n",
       "      <td>528</td>\n",
       "      <td>304</td>\n",
       "      <td>31</td>\n",
       "      <td>29</td>\n",
       "      <td>0</td>\n",
       "      <td>0</td>\n",
       "      <td>-</td>\n",
       "      <td>...</td>\n",
       "      <td>0.0</td>\n",
       "      <td>0</td>\n",
       "      <td>2</td>\n",
       "      <td>4</td>\n",
       "      <td>2</td>\n",
       "      <td>3</td>\n",
       "      <td>1</td>\n",
       "      <td>1</td>\n",
       "      <td>2</td>\n",
       "      <td>0</td>\n",
       "    </tr>\n",
       "    <tr>\n",
       "      <th>1</th>\n",
       "      <td>udp</td>\n",
       "      <td>CON</td>\n",
       "      <td>0.001119</td>\n",
       "      <td>146</td>\n",
       "      <td>178</td>\n",
       "      <td>31</td>\n",
       "      <td>29</td>\n",
       "      <td>0</td>\n",
       "      <td>0</td>\n",
       "      <td>dns</td>\n",
       "      <td>...</td>\n",
       "      <td>0.0</td>\n",
       "      <td>0</td>\n",
       "      <td>12</td>\n",
       "      <td>8</td>\n",
       "      <td>1</td>\n",
       "      <td>2</td>\n",
       "      <td>2</td>\n",
       "      <td>1</td>\n",
       "      <td>1</td>\n",
       "      <td>0</td>\n",
       "    </tr>\n",
       "    <tr>\n",
       "      <th>2</th>\n",
       "      <td>udp</td>\n",
       "      <td>CON</td>\n",
       "      <td>0.001209</td>\n",
       "      <td>132</td>\n",
       "      <td>164</td>\n",
       "      <td>31</td>\n",
       "      <td>29</td>\n",
       "      <td>0</td>\n",
       "      <td>0</td>\n",
       "      <td>dns</td>\n",
       "      <td>...</td>\n",
       "      <td>0.0</td>\n",
       "      <td>0</td>\n",
       "      <td>6</td>\n",
       "      <td>9</td>\n",
       "      <td>1</td>\n",
       "      <td>1</td>\n",
       "      <td>1</td>\n",
       "      <td>1</td>\n",
       "      <td>1</td>\n",
       "      <td>0</td>\n",
       "    </tr>\n",
       "    <tr>\n",
       "      <th>3</th>\n",
       "      <td>udp</td>\n",
       "      <td>CON</td>\n",
       "      <td>0.001169</td>\n",
       "      <td>146</td>\n",
       "      <td>178</td>\n",
       "      <td>31</td>\n",
       "      <td>29</td>\n",
       "      <td>0</td>\n",
       "      <td>0</td>\n",
       "      <td>dns</td>\n",
       "      <td>...</td>\n",
       "      <td>0.0</td>\n",
       "      <td>0</td>\n",
       "      <td>7</td>\n",
       "      <td>9</td>\n",
       "      <td>1</td>\n",
       "      <td>1</td>\n",
       "      <td>1</td>\n",
       "      <td>1</td>\n",
       "      <td>1</td>\n",
       "      <td>0</td>\n",
       "    </tr>\n",
       "    <tr>\n",
       "      <th>4</th>\n",
       "      <td>udp</td>\n",
       "      <td>CON</td>\n",
       "      <td>0.078339</td>\n",
       "      <td>568</td>\n",
       "      <td>312</td>\n",
       "      <td>31</td>\n",
       "      <td>29</td>\n",
       "      <td>0</td>\n",
       "      <td>0</td>\n",
       "      <td>-</td>\n",
       "      <td>...</td>\n",
       "      <td>0.0</td>\n",
       "      <td>0</td>\n",
       "      <td>2</td>\n",
       "      <td>4</td>\n",
       "      <td>2</td>\n",
       "      <td>3</td>\n",
       "      <td>1</td>\n",
       "      <td>1</td>\n",
       "      <td>2</td>\n",
       "      <td>0</td>\n",
       "    </tr>\n",
       "  </tbody>\n",
       "</table>\n",
       "<p>5 rows × 42 columns</p>\n",
       "</div>"
      ],
      "text/plain": [
       "  proto state       dur  sbytes  dbytes  sttl  dttl  sloss  dloss service  \\\n",
       "0   udp   CON  0.036133     528     304    31    29      0      0       -   \n",
       "1   udp   CON  0.001119     146     178    31    29      0      0     dns   \n",
       "2   udp   CON  0.001209     132     164    31    29      0      0     dns   \n",
       "3   udp   CON  0.001169     146     178    31    29      0      0     dns   \n",
       "4   udp   CON  0.078339     568     312    31    29      0      0       -   \n",
       "\n",
       "   ...  is_ftp_login  ct_ftp_cmd  ct_srv_src  ct_srv_dst  ct_dst_ltm  \\\n",
       "0  ...           0.0           0           2           4           2   \n",
       "1  ...           0.0           0          12           8           1   \n",
       "2  ...           0.0           0           6           9           1   \n",
       "3  ...           0.0           0           7           9           1   \n",
       "4  ...           0.0           0           2           4           2   \n",
       "\n",
       "   ct_src_ltm  ct_src_dport_ltm  ct_dst_sport_ltm  ct_dst_src_ltm  label  \n",
       "0           3                 1                 1               2      0  \n",
       "1           2                 2                 1               1      0  \n",
       "2           1                 1                 1               1      0  \n",
       "3           1                 1                 1               1      0  \n",
       "4           3                 1                 1               2      0  \n",
       "\n",
       "[5 rows x 42 columns]"
      ]
     },
     "execution_count": 62,
     "metadata": {},
     "output_type": "execute_result"
    }
   ],
   "source": [
    "#Merging datasets\n",
    "train_data = train_data_temp2.append(train_data4)\n",
    "print(train_data.shape)\n",
    "train_data.head()"
   ]
  },
  {
   "cell_type": "code",
   "execution_count": 63,
   "metadata": {},
   "outputs": [],
   "source": [
    "#Saving the merged dataset into a csv file\n",
    "train_data.to_csv('dataset/NIDS_dataset_final.csv')"
   ]
  },
  {
   "cell_type": "code",
   "execution_count": 64,
   "metadata": {},
   "outputs": [
    {
     "name": "stdout",
     "output_type": "stream",
     "text": [
      "(2540043, 43)\n"
     ]
    }
   ],
   "source": [
    "#Loading the dataset and splitting in X and y\n",
    "train_data = pd.read_csv('dataset/NIDS_dataset_final.csv')\n",
    "print(train_data.shape)\n",
    "train_data.head()\n",
    "X, y = train_data.drop('label', axis=1), train_data['label']"
   ]
  },
  {
   "cell_type": "code",
   "execution_count": 65,
   "metadata": {},
   "outputs": [],
   "source": [
    "#Making a train test split in the dataset\n",
    "train, test = train_test_split(train_data, test_size=0.20, stratify=y, random_state=42)"
   ]
  },
  {
   "cell_type": "code",
   "execution_count": 66,
   "metadata": {},
   "outputs": [
    {
     "data": {
      "text/html": [
       "<div>\n",
       "<style scoped>\n",
       "    .dataframe tbody tr th:only-of-type {\n",
       "        vertical-align: middle;\n",
       "    }\n",
       "\n",
       "    .dataframe tbody tr th {\n",
       "        vertical-align: top;\n",
       "    }\n",
       "\n",
       "    .dataframe thead th {\n",
       "        text-align: right;\n",
       "    }\n",
       "</style>\n",
       "<table border=\"1\" class=\"dataframe\">\n",
       "  <thead>\n",
       "    <tr style=\"text-align: right;\">\n",
       "      <th></th>\n",
       "      <th>proto</th>\n",
       "      <th>state</th>\n",
       "      <th>dur</th>\n",
       "      <th>sbytes</th>\n",
       "      <th>dbytes</th>\n",
       "      <th>sttl</th>\n",
       "      <th>dttl</th>\n",
       "      <th>sloss</th>\n",
       "      <th>dloss</th>\n",
       "      <th>service</th>\n",
       "      <th>...</th>\n",
       "      <th>is_ftp_login</th>\n",
       "      <th>ct_ftp_cmd</th>\n",
       "      <th>ct_srv_src</th>\n",
       "      <th>ct_srv_dst</th>\n",
       "      <th>ct_dst_ltm</th>\n",
       "      <th>ct_src_ltm</th>\n",
       "      <th>ct_src_dport_ltm</th>\n",
       "      <th>ct_dst_sport_ltm</th>\n",
       "      <th>ct_dst_src_ltm</th>\n",
       "      <th>label</th>\n",
       "    </tr>\n",
       "  </thead>\n",
       "  <tbody>\n",
       "    <tr>\n",
       "      <th>1921074</th>\n",
       "      <td>udp</td>\n",
       "      <td>INT</td>\n",
       "      <td>0.000007</td>\n",
       "      <td>264</td>\n",
       "      <td>0</td>\n",
       "      <td>60</td>\n",
       "      <td>0</td>\n",
       "      <td>0</td>\n",
       "      <td>0</td>\n",
       "      <td>dns</td>\n",
       "      <td>...</td>\n",
       "      <td>NaN</td>\n",
       "      <td></td>\n",
       "      <td>22</td>\n",
       "      <td>22</td>\n",
       "      <td>14</td>\n",
       "      <td>14</td>\n",
       "      <td>14</td>\n",
       "      <td>14</td>\n",
       "      <td>22</td>\n",
       "      <td>0</td>\n",
       "    </tr>\n",
       "    <tr>\n",
       "      <th>2012474</th>\n",
       "      <td>udp</td>\n",
       "      <td>INT</td>\n",
       "      <td>0.000007</td>\n",
       "      <td>264</td>\n",
       "      <td>0</td>\n",
       "      <td>60</td>\n",
       "      <td>0</td>\n",
       "      <td>0</td>\n",
       "      <td>0</td>\n",
       "      <td>dns</td>\n",
       "      <td>...</td>\n",
       "      <td>NaN</td>\n",
       "      <td></td>\n",
       "      <td>19</td>\n",
       "      <td>19</td>\n",
       "      <td>19</td>\n",
       "      <td>19</td>\n",
       "      <td>19</td>\n",
       "      <td>19</td>\n",
       "      <td>19</td>\n",
       "      <td>0</td>\n",
       "    </tr>\n",
       "    <tr>\n",
       "      <th>115171</th>\n",
       "      <td>tcp</td>\n",
       "      <td>FIN</td>\n",
       "      <td>1.033946</td>\n",
       "      <td>1684</td>\n",
       "      <td>10168</td>\n",
       "      <td>31</td>\n",
       "      <td>29</td>\n",
       "      <td>3</td>\n",
       "      <td>5</td>\n",
       "      <td>http</td>\n",
       "      <td>...</td>\n",
       "      <td>0.0</td>\n",
       "      <td>0</td>\n",
       "      <td>1</td>\n",
       "      <td>1</td>\n",
       "      <td>2</td>\n",
       "      <td>2</td>\n",
       "      <td>1</td>\n",
       "      <td>1</td>\n",
       "      <td>1</td>\n",
       "      <td>0</td>\n",
       "    </tr>\n",
       "    <tr>\n",
       "      <th>2164402</th>\n",
       "      <td>udp</td>\n",
       "      <td>CON</td>\n",
       "      <td>0.001007</td>\n",
       "      <td>146</td>\n",
       "      <td>178</td>\n",
       "      <td>31</td>\n",
       "      <td>29</td>\n",
       "      <td>0</td>\n",
       "      <td>0</td>\n",
       "      <td>dns</td>\n",
       "      <td>...</td>\n",
       "      <td>NaN</td>\n",
       "      <td></td>\n",
       "      <td>4</td>\n",
       "      <td>1</td>\n",
       "      <td>3</td>\n",
       "      <td>4</td>\n",
       "      <td>2</td>\n",
       "      <td>1</td>\n",
       "      <td>2</td>\n",
       "      <td>0</td>\n",
       "    </tr>\n",
       "    <tr>\n",
       "      <th>1889220</th>\n",
       "      <td>udp</td>\n",
       "      <td>INT</td>\n",
       "      <td>0.000009</td>\n",
       "      <td>114</td>\n",
       "      <td>0</td>\n",
       "      <td>254</td>\n",
       "      <td>0</td>\n",
       "      <td>0</td>\n",
       "      <td>0</td>\n",
       "      <td>dns</td>\n",
       "      <td>...</td>\n",
       "      <td>NaN</td>\n",
       "      <td></td>\n",
       "      <td>36</td>\n",
       "      <td>36</td>\n",
       "      <td>31</td>\n",
       "      <td>31</td>\n",
       "      <td>31</td>\n",
       "      <td>18</td>\n",
       "      <td>36</td>\n",
       "      <td>1</td>\n",
       "    </tr>\n",
       "  </tbody>\n",
       "</table>\n",
       "<p>5 rows × 42 columns</p>\n",
       "</div>"
      ],
      "text/plain": [
       "        proto state       dur  sbytes  dbytes  sttl  dttl  sloss  dloss  \\\n",
       "1921074   udp   INT  0.000007     264       0    60     0      0      0   \n",
       "2012474   udp   INT  0.000007     264       0    60     0      0      0   \n",
       "115171    tcp   FIN  1.033946    1684   10168    31    29      3      5   \n",
       "2164402   udp   CON  0.001007     146     178    31    29      0      0   \n",
       "1889220   udp   INT  0.000009     114       0   254     0      0      0   \n",
       "\n",
       "        service  ...  is_ftp_login  ct_ftp_cmd  ct_srv_src  ct_srv_dst  \\\n",
       "1921074     dns  ...           NaN                      22          22   \n",
       "2012474     dns  ...           NaN                      19          19   \n",
       "115171     http  ...           0.0           0           1           1   \n",
       "2164402     dns  ...           NaN                       4           1   \n",
       "1889220     dns  ...           NaN                      36          36   \n",
       "\n",
       "         ct_dst_ltm  ct_src_ltm  ct_src_dport_ltm  ct_dst_sport_ltm  \\\n",
       "1921074          14          14                14                14   \n",
       "2012474          19          19                19                19   \n",
       "115171            2           2                 1                 1   \n",
       "2164402           3           4                 2                 1   \n",
       "1889220          31          31                31                18   \n",
       "\n",
       "         ct_dst_src_ltm  label  \n",
       "1921074              22      0  \n",
       "2012474              19      0  \n",
       "115171                1      0  \n",
       "2164402               2      0  \n",
       "1889220              36      1  \n",
       "\n",
       "[5 rows x 42 columns]"
      ]
     },
     "execution_count": 66,
     "metadata": {},
     "output_type": "execute_result"
    }
   ],
   "source": [
    "#Dropping the extra formed useless feature\n",
    "train = train.drop('Unnamed: 0', axis=1)\n",
    "train.head()"
   ]
  },
  {
   "cell_type": "code",
   "execution_count": 67,
   "metadata": {},
   "outputs": [
    {
     "data": {
      "text/plain": [
       "proto                      0\n",
       "state                      0\n",
       "dur                        0\n",
       "sbytes                     0\n",
       "dbytes                     0\n",
       "sttl                       0\n",
       "dttl                       0\n",
       "sloss                      0\n",
       "dloss                      0\n",
       "service                    0\n",
       "sload                      0\n",
       "dload                      0\n",
       "spkts                      0\n",
       "dpkts                      0\n",
       "swin                       0\n",
       "dwin                       0\n",
       "stcpb                      0\n",
       "dtcpb                      0\n",
       "smean                      0\n",
       "dmean                      0\n",
       "trans_depth                0\n",
       "response_body_len          0\n",
       "sjit                       0\n",
       "djit                       0\n",
       "sinpkt                     0\n",
       "dinpkt                     0\n",
       "tcprtt                     0\n",
       "synack                     0\n",
       "ackdat                     0\n",
       "is_sm_ips_ports            0\n",
       "ct_state_ttl               0\n",
       "ct_flw_http_mthd     1078078\n",
       "is_ftp_login         1143497\n",
       "ct_ftp_cmd                 0\n",
       "ct_srv_src                 0\n",
       "ct_srv_dst                 0\n",
       "ct_dst_ltm                 0\n",
       "ct_src_ltm                 0\n",
       "ct_src_dport_ltm           0\n",
       "ct_dst_sport_ltm           0\n",
       "ct_dst_src_ltm             0\n",
       "label                      0\n",
       "dtype: int64"
      ]
     },
     "execution_count": 67,
     "metadata": {},
     "output_type": "execute_result"
    }
   ],
   "source": [
    "train.isnull().sum() #Getting all the features with number of null values in them"
   ]
  },
  {
   "cell_type": "code",
   "execution_count": 71,
   "metadata": {},
   "outputs": [
    {
     "data": {
      "text/plain": [
       "None        997348\n",
       "dns         625188\n",
       "http        164955\n",
       "ftp-data    100585\n",
       "smtp         65376\n",
       "ftp          39247\n",
       "ssh          37708\n",
       "pop3          1230\n",
       "dhcp           143\n",
       "ssl            103\n",
       "snmp            93\n",
       "radius          30\n",
       "irc             28\n",
       "Name: service, dtype: int64"
      ]
     },
     "execution_count": 71,
     "metadata": {},
     "output_type": "execute_result"
    }
   ],
   "source": [
    "#Handle service - we can see many '-' in service - replace them with \"None\"\n",
    "train['service'] = train['service'].replace(to_replace='-', value=\"None\")\n",
    "train['service'].value_counts()"
   ]
  },
  {
   "cell_type": "code",
   "execution_count": 73,
   "metadata": {},
   "outputs": [
    {
     "data": {
      "text/plain": [
       "0.0     789755\n",
       "1.0     150428\n",
       "6.0       6421\n",
       "4.0       5240\n",
       "3.0        587\n",
       "2.0        465\n",
       "5.0        350\n",
       "9.0        218\n",
       "14.0       179\n",
       "12.0       111\n",
       "30.0        47\n",
       "8.0         44\n",
       "16.0        41\n",
       "36.0        28\n",
       "10.0        23\n",
       "25.0        19\n",
       "Name: ct_flw_http_mthd, dtype: int64"
      ]
     },
     "execution_count": 73,
     "metadata": {},
     "output_type": "execute_result"
    }
   ],
   "source": [
    "#Getting the mode value for this feature\n",
    "train['ct_flw_http_mthd'].value_counts() #0.0 is the mode value. We will use to fill the na values"
   ]
  },
  {
   "cell_type": "code",
   "execution_count": 74,
   "metadata": {},
   "outputs": [],
   "source": [
    "#Filling the na values\n",
    "train['ct_flw_http_mthd'] = train['ct_flw_http_mthd'].fillna(value=0).astype(int)"
   ]
  },
  {
   "cell_type": "code",
   "execution_count": 75,
   "metadata": {},
   "outputs": [
    {
     "data": {
      "text/plain": [
       "0.0    853709\n",
       "1.0     34679\n",
       "4.0       126\n",
       "2.0        23\n",
       "Name: is_ftp_login, dtype: int64"
      ]
     },
     "execution_count": 75,
     "metadata": {},
     "output_type": "execute_result"
    }
   ],
   "source": [
    "#Getting the mode value for this feature\n",
    "train['is_ftp_login'].value_counts()"
   ]
  },
  {
   "cell_type": "code",
   "execution_count": 81,
   "metadata": {},
   "outputs": [],
   "source": [
    "#Filling the na values\n",
    "train['is_ftp_login'] = train['is_ftp_login'].fillna(value=0).astype('int')"
   ]
  },
  {
   "cell_type": "code",
   "execution_count": 77,
   "metadata": {},
   "outputs": [
    {
     "data": {
      "text/plain": [
       "0"
      ]
     },
     "execution_count": 77,
     "metadata": {},
     "output_type": "execute_result"
    }
   ],
   "source": [
    "#Checking if some null values are there now\n",
    "train.isnull().sum().sum()"
   ]
  },
  {
   "cell_type": "code",
   "execution_count": 78,
   "metadata": {},
   "outputs": [
    {
     "name": "stdout",
     "output_type": "stream",
     "text": [
      "Percentage of label 0 in train data set is:  87.351 %.\n",
      "Percentage of label 1 in train data set is:  12.649 %.\n",
      "Percentage of label 0 in test data set is:  87.351 %.\n",
      "Percentage of label 1 in test data set is:  12.649 %.\n"
     ]
    }
   ],
   "source": [
    "#Checking the distribution of label in test and train data\n",
    "\n",
    "train_0_count = train.label.value_counts()[0]/len(train['label'].values)\n",
    "train_1_count = train.label.value_counts()[1]/len(train['label'].values)\n",
    "\n",
    "test_0_count = test.label.value_counts()[0]/len(test['label'].values)\n",
    "test_1_count = test.label.value_counts()[1]/len(test['label'].values)\n",
    "\n",
    "print(\"Percentage of label 0 in train data set is: \", round(train_0_count*100, 3),\"%.\")\n",
    "print(\"Percentage of label 1 in train data set is: \", round(train_1_count*100, 3),\"%.\")\n",
    "print(\"Percentage of label 0 in test data set is: \", round(test_0_count*100, 3),\"%.\")\n",
    "print(\"Percentage of label 1 in test data set is: \", round(test_1_count*100, 3),\"%.\")"
   ]
  },
  {
   "cell_type": "code",
   "execution_count": 82,
   "metadata": {},
   "outputs": [
    {
     "name": "stdout",
     "output_type": "stream",
     "text": [
      "<class 'pandas.core.frame.DataFrame'>\n",
      "Int64Index: 2032034 entries, 1921074 to 340529\n",
      "Data columns (total 42 columns):\n",
      " #   Column             Dtype  \n",
      "---  ------             -----  \n",
      " 0   proto              object \n",
      " 1   state              object \n",
      " 2   dur                float64\n",
      " 3   sbytes             int64  \n",
      " 4   dbytes             int64  \n",
      " 5   sttl               int64  \n",
      " 6   dttl               int64  \n",
      " 7   sloss              int64  \n",
      " 8   dloss              int64  \n",
      " 9   service            object \n",
      " 10  sload              float64\n",
      " 11  dload              float64\n",
      " 12  spkts              int64  \n",
      " 13  dpkts              int64  \n",
      " 14  swin               int64  \n",
      " 15  dwin               int64  \n",
      " 16  stcpb              int64  \n",
      " 17  dtcpb              int64  \n",
      " 18  smean              int64  \n",
      " 19  dmean              int64  \n",
      " 20  trans_depth        int64  \n",
      " 21  response_body_len  int64  \n",
      " 22  sjit               float64\n",
      " 23  djit               float64\n",
      " 24  sinpkt             float64\n",
      " 25  dinpkt             float64\n",
      " 26  tcprtt             float64\n",
      " 27  synack             float64\n",
      " 28  ackdat             float64\n",
      " 29  is_sm_ips_ports    int64  \n",
      " 30  ct_state_ttl       int64  \n",
      " 31  ct_flw_http_mthd   int32  \n",
      " 32  is_ftp_login       int32  \n",
      " 33  ct_ftp_cmd         object \n",
      " 34  ct_srv_src         int64  \n",
      " 35  ct_srv_dst         int64  \n",
      " 36  ct_dst_ltm         int64  \n",
      " 37  ct_src_ltm         int64  \n",
      " 38  ct_src_dport_ltm   int64  \n",
      " 39  ct_dst_sport_ltm   int64  \n",
      " 40  ct_dst_src_ltm     int64  \n",
      " 41  label              int64  \n",
      "dtypes: float64(10), int32(2), int64(26), object(4)\n",
      "memory usage: 651.1+ MB\n"
     ]
    }
   ],
   "source": [
    "#Checking the dataset for dtypes now:\n",
    "train.info()"
   ]
  },
  {
   "cell_type": "code",
   "execution_count": 83,
   "metadata": {},
   "outputs": [
    {
     "data": {
      "text/plain": [
       "int64      26\n",
       "float64    10\n",
       "object      4\n",
       "int32       2\n",
       "dtype: int64"
      ]
     },
     "execution_count": 83,
     "metadata": {},
     "output_type": "execute_result"
    }
   ],
   "source": [
    "#Checking the number of categories in dataset\n",
    "train.dtypes.value_counts()"
   ]
  },
  {
   "cell_type": "code",
   "execution_count": 84,
   "metadata": {},
   "outputs": [
    {
     "data": {
      "text/plain": [
       "Index(['proto', 'state', 'service', 'ct_ftp_cmd'], dtype='object')"
      ]
     },
     "execution_count": 84,
     "metadata": {},
     "output_type": "execute_result"
    }
   ],
   "source": [
    "#Verifying non numeric data types\n",
    "train.select_dtypes(exclude='number').columns"
   ]
  },
  {
   "cell_type": "code",
   "execution_count": 85,
   "metadata": {},
   "outputs": [],
   "source": [
    "#According to the features csv file, ct_ftp_cmd feature is an integer type and not categorical so lets fix that"
   ]
  },
  {
   "cell_type": "code",
   "execution_count": 86,
   "metadata": {},
   "outputs": [
    {
     "data": {
      "text/plain": [
       "     1143497\n",
       "0     849050\n",
       "1      18288\n",
       "1      13749\n",
       "0       4583\n",
       "2        988\n",
       "4        664\n",
       "3        576\n",
       "6        259\n",
       "5        220\n",
       "4        126\n",
       "2         23\n",
       "8         11\n",
       "Name: ct_ftp_cmd, dtype: int64"
      ]
     },
     "execution_count": 86,
     "metadata": {},
     "output_type": "execute_result"
    }
   ],
   "source": [
    "train['ct_ftp_cmd'].value_counts()\n",
    "#We can see that we have 667038 null values which we will replace by mode values which is 0 in our case here."
   ]
  },
  {
   "cell_type": "code",
   "execution_count": 87,
   "metadata": {},
   "outputs": [],
   "source": [
    "#Replacing empty space with mode value and converting to numerical\n",
    "train['ct_ftp_cmd'] = train['ct_ftp_cmd'].replace(to_replace=' ', value=0).astype(int)"
   ]
  },
  {
   "cell_type": "code",
   "execution_count": 88,
   "metadata": {},
   "outputs": [
    {
     "data": {
      "text/plain": [
       "Index(['proto', 'state', 'service'], dtype='object')"
      ]
     },
     "execution_count": 88,
     "metadata": {},
     "output_type": "execute_result"
    }
   ],
   "source": [
    "#Verifying if ct_ftp_cmd has been corrected\n",
    "train.select_dtypes(exclude='number').columns #Corrected"
   ]
  },
  {
   "cell_type": "code",
   "execution_count": 89,
   "metadata": {},
   "outputs": [],
   "source": [
    "#We also saw that there are 2 binary features from the features.csv file namely 'is_sm_ips_ports', 'is_ftp_login' \n",
    "#Lets examine these"
   ]
  },
  {
   "cell_type": "code",
   "execution_count": 90,
   "metadata": {},
   "outputs": [
    {
     "data": {
      "text/plain": [
       "0    2028655\n",
       "1       3379\n",
       "Name: is_sm_ips_ports, dtype: int64"
      ]
     },
     "execution_count": 90,
     "metadata": {},
     "output_type": "execute_result"
    }
   ],
   "source": [
    "train['is_sm_ips_ports'].value_counts() #This is fine"
   ]
  },
  {
   "cell_type": "code",
   "execution_count": 91,
   "metadata": {},
   "outputs": [
    {
     "data": {
      "text/plain": [
       "0    1997206\n",
       "1      34679\n",
       "4        126\n",
       "2         23\n",
       "Name: is_ftp_login, dtype: int64"
      ]
     },
     "execution_count": 91,
     "metadata": {},
     "output_type": "execute_result"
    }
   ],
   "source": [
    "train['is_ftp_login'].value_counts() #We need to fix these and replace values greater than 1 with 1"
   ]
  },
  {
   "cell_type": "code",
   "execution_count": 92,
   "metadata": {},
   "outputs": [
    {
     "data": {
      "text/plain": [
       "0    1997206\n",
       "1      34828\n",
       "Name: is_ftp_login, dtype: int64"
      ]
     },
     "execution_count": 92,
     "metadata": {},
     "output_type": "execute_result"
    }
   ],
   "source": [
    "train['is_ftp_login'][train['is_ftp_login'] > 1] = 1\n",
    "train['is_ftp_login'].value_counts() #Fixed"
   ]
  },
  {
   "cell_type": "code",
   "execution_count": 100,
   "metadata": {},
   "outputs": [],
   "source": [
    "#Saving some information\n",
    "saved_params['total_columns'] = train.columns\n",
    "saved_params['cat_cols'] = train.select_dtypes(exclude='number').columns\n",
    "saved_params['binary_cols'] = ['is_sm_ips_ports', 'is_ftp_login']\n",
    "saved_params['numeric_cols'] = train.select_dtypes(include='number').columns\n",
    "pickle.dump(saved_params, open('saved_files/saved_params.pkl', 'wb'))"
   ]
  },
  {
   "cell_type": "code",
   "execution_count": 93,
   "metadata": {},
   "outputs": [],
   "source": [
    "#Splitting in X and y of train and test dataset\n",
    "X_train, y_train = train.drop('label', axis=1), train.label\n",
    "X_test, y_test = test.drop('label', axis=1), test.label"
   ]
  },
  {
   "cell_type": "code",
   "execution_count": 94,
   "metadata": {},
   "outputs": [
    {
     "name": "stdout",
     "output_type": "stream",
     "text": [
      "(2032034, 41)\n",
      "(2032034,)\n",
      "(508009, 42)\n",
      "(508009,)\n"
     ]
    }
   ],
   "source": [
    "print(X_train.shape)\n",
    "print(y_train.shape)\n",
    "print(X_test.shape)\n",
    "print(y_test.shape)"
   ]
  },
  {
   "cell_type": "code",
   "execution_count": 95,
   "metadata": {},
   "outputs": [],
   "source": [
    "# Saving all the files to disk to use later\n",
    "pickle.dump((X_train, y_train), open('saved_files/final_train_complete.pkl', 'wb'))\n",
    "pickle.dump((X_test, y_test), open('saved_files/final_test_complete.pkl', 'wb'))"
   ]
  },
  {
   "cell_type": "code",
   "execution_count": null,
   "metadata": {},
   "outputs": [],
   "source": []
  }
 ],
 "metadata": {
  "kernelspec": {
   "display_name": "Python 3",
   "language": "python",
   "name": "python3"
  },
  "language_info": {
   "codemirror_mode": {
    "name": "ipython",
    "version": 3
   },
   "file_extension": ".py",
   "mimetype": "text/x-python",
   "name": "python",
   "nbconvert_exporter": "python",
   "pygments_lexer": "ipython3",
   "version": "3.7.3"
  }
 },
 "nbformat": 4,
 "nbformat_minor": 2
}
