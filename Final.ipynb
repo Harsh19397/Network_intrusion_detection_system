{
 "cells": [
  {
   "cell_type": "markdown",
   "metadata": {},
   "source": [
    "# Final File\n",
    "\n",
    "HERE WE HAVE CREATED TWO FUNCTIONS WHICH TAKES THE INPUT AS RAW DATA AND OUTPUTS THE PREDICTION ALONG WITH PERFORMANCE MEASURES."
   ]
  },
  {
   "cell_type": "markdown",
   "metadata": {},
   "source": [
    "## Loading Libraries"
   ]
  },
  {
   "cell_type": "code",
   "execution_count": 2,
   "metadata": {},
   "outputs": [],
   "source": [
    "#Import libraries\n",
    "import pandas as pd\n",
    "import numpy as np\n",
    "import matplotlib.pyplot as plt\n",
    "import seaborn as sns\n",
    "import pickle\n",
    "import os\n",
    "from prettytable import PrettyTable\n",
    "\n",
    "from sklearn.metrics import confusion_matrix, f1_score, roc_auc_score, auc\n",
    "from sklearn.metrics import accuracy_score, make_scorer, roc_curve\n",
    "\n",
    "import warnings\n",
    "warnings.filterwarnings('ignore')\n",
    "\n",
    "dataset_path = 'dataset'\n",
    "saved_files_path = 'saved_files/'"
   ]
  },
  {
   "cell_type": "markdown",
   "metadata": {},
   "source": [
    "## Data Pipeline functions"
   ]
  },
  {
   "cell_type": "code",
   "execution_count": 31,
   "metadata": {},
   "outputs": [],
   "source": [
    "#---------------------------------------------Data Pipeline Functions----------------------------------------------------------\n",
    "def log1p_transform(data):\n",
    "    '''\n",
    "    This function transforms the columns stored in the saved parameters dictionary by applying log1p transform and returns the data.\n",
    "    '''\n",
    "    #Loading the saved columns\n",
    "    saved_parameters = pickle.load(open(saved_files_path+'saved_parameters.pkl', 'rb'))\n",
    "    \n",
    "    #Getting the names of the columns for which we need to apply log1p \n",
    "    log1p_cols = saved_parameters['cols_for_log1p']\n",
    "    \n",
    "    #Transforming the log1p functions\n",
    "    for col in log1p_cols:\n",
    "        transformed_col = col+'_log1p'\n",
    "        #data[transformed_col] = data[col].apply(np.log1p)\n",
    "        data[transformed_col] = [np.log1p(float(i)) for i in data[col]]\n",
    "        data = data.drop([col], axis=1)\n",
    "    \n",
    "    return data\n",
    "\n",
    "#Standard scaler on data\n",
    "def scale_data(data):\n",
    "    '''\n",
    "    This function standardize the numerical columns\n",
    "    '''\n",
    "    #Using Standard Scaler from sklearn preprocessing to scale our numeric features\n",
    "    scaler = pickle.load(open(saved_files_path+'scaler_2.pkl', 'rb'))\n",
    "\n",
    "    result_numeric = list(data.select_dtypes(include='number').columns)\n",
    "    \n",
    "    if 'is_sm_ips_ports' in result_numeric:\n",
    "        result_numeric.remove('is_sm_ips_ports')\n",
    "    if 'is_ftp_login' in result_numeric:\n",
    "        result_numeric.remove('is_ftp_login')\n",
    "\n",
    "    #Using numeric columns to scale them using Standard Scaler\n",
    "    data[result_numeric] = scaler.transform(data[result_numeric])\n",
    "    \n",
    "    return data\n",
    "\n",
    "\n",
    "#Categorical encoding - one hot encoding\n",
    "def categorical_encoding(data):\n",
    "    '''\n",
    "    This function one hot encodes service, proto and state categorical features\n",
    "    '''\n",
    "    saved_parameters = pickle.load(open(saved_files_path+'saved_parameters.pkl', 'rb'))\n",
    "    state_categories = saved_parameters['state_categories']\n",
    "    service_categories = saved_parameters['service_categories']\n",
    "    proto_categories = saved_parameters['proto_categories']\n",
    "\n",
    "    #For state feature\n",
    "    for i in state_categories:\n",
    "        data['state_'+i] = [1 if cat==i else 0 for cat in data['state'].values]\n",
    "\n",
    "    data = data.drop(['state'], axis=1)\n",
    "    \n",
    "    #For service feature\n",
    "    for i in service_categories:\n",
    "        data['service_'+i] = [1 if cat==i else 0 for cat in data['service'].values]\n",
    "\n",
    "    data = data.drop(['service'], axis=1)\n",
    "    \n",
    "    #For proto feature\n",
    "    for i in proto_categories:\n",
    "        data['proto_'+i] = [1 if cat==i else 0 for cat in data['proto'].values]\n",
    "\n",
    "    data = data.drop(['proto'], axis=1)\n",
    "    \n",
    "    return data\n",
    "\n",
    "def data_cleanup(data, set_name = \"data\"):\n",
    "    '''\n",
    "    This function applies various techniques to clean the dataset.\n",
    "    '''\n",
    "    saved_parameters = pickle.load(open(saved_files_path+'saved_parameters.pkl', 'rb'))\n",
    "    saved_mode_vals = pickle.load(open(saved_files_path+'saved_mode_vals.pkl', 'rb'))\n",
    "    \n",
    "    #Cleaning the data\n",
    "    for col in data.columns:\n",
    "        mod = saved_mode_vals[col]\n",
    "        \n",
    "        #Fixing Binary data columns\n",
    "        if col in saved_parameters['binary_cols']:\n",
    "            data[col][data[col] > 1] = mod\n",
    "        \n",
    "        #Replacing '-' with \"None\" for service feature\n",
    "        data[col] = data[col].replace(to_replace='-', value=\"None\")\n",
    "        #Filling null values\n",
    "        data[col] = data[col].fillna(value=mod)\n",
    "        #Filling empty values\n",
    "        data[col] = data[col].replace(to_replace=' ', value=mod)\n",
    "\n",
    "    #Fixing the data types of data\n",
    "    data_types_to_correct = list(set(data.select_dtypes(exclude='number').columns) - set(saved_parameters['cat_cols']))\n",
    "    \n",
    "    for col in data_types_to_correct:\n",
    "        data[col] = data[col].astype(float)\n",
    "        \n",
    "   \n",
    "    \n",
    "    return data\n",
    "\n",
    "def create_test_data(data):\n",
    "    '''\n",
    "    This function uses all the pipeline functions to create the test dataset\n",
    "    '''\n",
    "    \n",
    "    if type(data) ==  np.ndarray:\n",
    "        data = pd.DataFrame(data.reshape(1,-1))\n",
    "    \n",
    "    #droping the index\n",
    "    data = data.reset_index(drop=True)\n",
    "    \n",
    "    #Dropping columns with high correlation\n",
    "    saved_parameters = pickle.load(open(saved_files_path+'saved_parameters.pkl', 'rb'))\n",
    "    features= pd.read_csv('dataset/features/UNSW_NB15_features.csv')\n",
    "    data.columns = [i.lower() for i in features.Name[:-1]]\n",
    "    data = data.drop(saved_parameters['mandatory_to_drop'], axis=1)\n",
    "    data = data.drop(saved_parameters['cols_to_drop'], axis=1)\n",
    "    \n",
    "    #Had inconsistent datatype in train data\n",
    "    data['ct_ftp_cmd'] = data['ct_ftp_cmd'].replace(to_replace=' ', value=0).astype(float)\n",
    "    \n",
    "    #Generating new feature set 1\n",
    "    data['total_bytes'] = data['sbytes']+data['dbytes']\n",
    "    data['total_load'] = data['sload'] + data['dload']\n",
    "    \n",
    "    #Log1p transform\n",
    "    data = log1p_transform(data)\n",
    "    \n",
    "    #Scale transform\n",
    "    data = scale_data(data)\n",
    "    \n",
    "    #One hot encoding\n",
    "    data = categorical_encoding(data)\n",
    "    \n",
    "    #Cleaning data\n",
    "    data = data_cleanup(data)\n",
    "    \n",
    "    #Getting the important features only\n",
    "    data = data[saved_parameters['important_features']]\n",
    "    \n",
    "    print(\"The shape of  data after preprocessing is: {}\".format(data.shape))\n",
    "    \n",
    "    return data"
   ]
  },
  {
   "cell_type": "markdown",
   "metadata": {},
   "source": [
    "## Model Performance Evaluation functions"
   ]
  },
  {
   "cell_type": "code",
   "execution_count": 4,
   "metadata": {},
   "outputs": [],
   "source": [
    "#---------------------------------------------Model Performance------------------------------------------------------------\n",
    "#Utility functions for calculating model performance\n",
    "def calculate_False_Alarm_Rate(y_true, y_pred):\n",
    "    '''\n",
    "    This function is used to calculate the False Alarm Rate. We take the average of False positive rate and False Negative Rate\n",
    "    to calculate the False Alarm Rate.\n",
    "    '''\n",
    "    tn, fp, fn, tp = confusion_matrix(y_true, y_pred).ravel()\n",
    "    #False positive rate\n",
    "    FPR = fp/(tp+tn)\n",
    "    #False negative rate\n",
    "    FNR = fn/(tn+tp)\n",
    "    #False Alarm rate\n",
    "    FAR = (FPR + FNR)/2\n",
    "    return FAR\n",
    "\n",
    "def get_precision(y_true, y_pred):\n",
    "    '''\n",
    "    This function returns the precision and takes y_true and y_pred as input.\n",
    "    '''\n",
    "    tn, fp, fn, tp = confusion_matrix(y_true, y_pred).ravel()\n",
    "    return tp/(tp+fp)\n",
    "\n",
    "def get_recall(y_true, y_pred):\n",
    "    '''\n",
    "    This function returns the recall and takes y_true and y_pred as input.\n",
    "    '''\n",
    "    tn, fp, fn, tp = confusion_matrix(y_true, y_pred).ravel()\n",
    "    return tp/(tp+fn)\n",
    "\n",
    "def plot_roc_curve_(y_true_test, y_pred_test):\n",
    "    test_fpr = [0,0]\n",
    "    test_tpr = [0,0]\n",
    "\n",
    "    for i in range(2):\n",
    "        test_fpr[i], test_tpr[i], threshold = roc_curve(y_true_test, y_pred_test)\n",
    "\n",
    "    plt.figure(figsize=(16,5))\n",
    "    plt.plot(test_fpr[0], test_tpr[0], color='blue', label=\"ROC curve for test data class 0.\")\n",
    "    plt.plot(test_fpr[1], test_tpr[1], color='green', label=\"ROC curve for test data class 1.\")\n",
    "    plt.ylabel(\"True postive rate\")\n",
    "    plt.xlabel(\"False positive rate\")\n",
    "    plt.title(\"ROC Curve for test data\")\n",
    "    plt.grid()\n",
    "    plt.legend()\n",
    "    plt.show()\n",
    "    \n",
    "def plot_confusion_matrix(y_test, y_test_pred):\n",
    "    #For test\n",
    "    plt.figure(figsize=(16,5))\n",
    "    sns.heatmap(confusion_matrix(y_test, y_test_pred), \n",
    "                annot=True, fmt='d', xticklabels=['Normal Traffic', 'Malicious Traffic'],\n",
    "                yticklabels=['Normal Traffic', 'Malicious Traffic'])\n",
    "    plt.xlabel(\"Predicted Values\")\n",
    "    plt.ylabel(\"Actual Values\")\n",
    "    plt.title(\"Confusion Matrix for testing data.\")\n",
    "    plt.show()\n",
    "    \n",
    "def evaluate_results(clf, X_test, y_test, model_name=\"Machine Learning Model\"):\n",
    "    '''\n",
    "    This function evaluates accuracy, precision, recall, f1 score, auc_score and False Alarm Rate\n",
    "    \n",
    "    It also out puts confusion matrix and the ROC curve\n",
    "    '''\n",
    "    #Training the classifier and predicting train and test data\n",
    "    y_test_pred = clf.predict(X_test)\n",
    "    \n",
    "    #Plan of Action\n",
    "        #Calculate accuracy\n",
    "        #Calculat precision\n",
    "        #Calculate recall\n",
    "        #Calculate F1 Score\n",
    "        #Calculate False Alarm rate\n",
    "        #Calculate ROC_AUC score\n",
    "    \n",
    "    #Scores for test dataset\n",
    "    test_accuracy = accuracy_score(y_test, y_test_pred)\n",
    "    test_f1 = f1_score(y_test, y_test_pred)\n",
    "    test_precision = get_precision(y_test, y_test_pred)\n",
    "    test_recall = get_recall(y_test, y_test_pred)\n",
    "    test_falseAlarmRate = calculate_False_Alarm_Rate(y_test, y_test_pred)\n",
    "    test_roc_auc = roc_auc_score(y_test, clf.predict_proba(X_test)[:, 1])\n",
    "    \n",
    "    #Printing the results in a table\n",
    "    # Specify the Column Names while initializing the Table\n",
    "    results_table = PrettyTable([\"Classifier Name\", \"Dataset Category(train/test)\", \"Accuracy\", \"F1_Score\", \"Precision\", \"Recall\", \"False Alarm Rate\", \"ROC_AUC Score\"])\n",
    "    results_table.add_row([model_name, 'test set', test_accuracy, test_f1, test_precision, test_recall, test_falseAlarmRate, test_roc_auc])\n",
    "    print(results_table)\n",
    "    \n",
    "    #Plot AUC score - train and test\n",
    "    plot_roc_curve_(y_test, y_test_pred)\n",
    "    \n",
    "    #Plot Confusion matrix - train and test\n",
    "    plot_confusion_matrix(y_test, y_test_pred)\n",
    "    \n",
    "    #Returning score\n",
    "    return clf, test_accuracy, test_f1, test_falseAlarmRate, test_precision, test_recall, test_roc_auc\n",
    "    #return test_accuracy, test_f1"
   ]
  },
  {
   "cell_type": "markdown",
   "metadata": {},
   "source": [
    "## Final Functions"
   ]
  },
  {
   "cell_type": "code",
   "execution_count": 32,
   "metadata": {},
   "outputs": [],
   "source": [
    "def final_fun_1(X):\n",
    "    #Preprocessing and transforming the data to a form which our model understands\n",
    "    test = create_test_data(X)\n",
    "    \n",
    "    model = pickle.load(open(saved_files_path+'model_rfc_imp.pkl', 'rb'))\n",
    "    \n",
    "    test_pred = model.predict(test)\n",
    "    \n",
    "    return test_pred\n",
    "\n",
    "\n",
    "def final_fun_2(X,y):\n",
    "    #Preprocessing and transforming the data to a form which our model understands\n",
    "    test = create_test_data(X)\n",
    "    \n",
    "    model = pickle.load(open(saved_files_path+'model_rfc_imp.pkl', 'rb'))\n",
    "    \n",
    "    clf, test_accuracy, test_f1, test_falseAlarmRate, test_precision, test_recall, test_roc_auc = evaluate_results(model, test, y, \"Random Forest Classifier\")\n",
    "     \n",
    "    \n",
    "    final_results = {}\n",
    "    final_results['accuracy'] = test_accuracy\n",
    "    final_results['f1'] = test_f1\n",
    "    \n",
    "    return final_results "
   ]
  },
  {
   "cell_type": "markdown",
   "metadata": {},
   "source": [
    "## Final testing"
   ]
  },
  {
   "cell_type": "code",
   "execution_count": 14,
   "metadata": {},
   "outputs": [],
   "source": [
    "#Loading a single and set of test data\n",
    "saved_parameters = pickle.load(open(saved_files_path+'saved_parameters.pkl', 'rb'))\n",
    "\n",
    "#Loading data\n",
    "test_data_all = pd.read_csv(\"dataset/UNSW-NB15_1.csv\",header=None)"
   ]
  },
  {
   "cell_type": "code",
   "execution_count": 15,
   "metadata": {},
   "outputs": [],
   "source": [
    "#Set of testing points \n",
    "test_data = test_data_all.iloc[90:100,:-1]\n",
    "test_data_label = test_data_all.iloc[90:100,-1].values\n",
    "\n",
    "#Single Data point\n",
    "test_data_point = test_data.iloc[1,:].values\n",
    "test_data_point_label = test_data_label[1]\n",
    "test = pd.DataFrame(test_data_point.reshape(1,-1))"
   ]
  },
  {
   "cell_type": "code",
   "execution_count": 33,
   "metadata": {},
   "outputs": [
    {
     "name": "stdout",
     "output_type": "stream",
     "text": [
      "The shape of  data after preprocessing is: (10, 40)\n",
      "[0 0 0 0 0 1 0 0 0 0]\n",
      "[0 0 0 0 0 1 0 0 0 0]\n"
     ]
    }
   ],
   "source": [
    "test_pred = final_fun_1(test_data)\n",
    "print(test_pred)\n",
    "print(test_data_label)"
   ]
  },
  {
   "cell_type": "code",
   "execution_count": 34,
   "metadata": {},
   "outputs": [
    {
     "name": "stdout",
     "output_type": "stream",
     "text": [
      "The shape of  data after preprocessing is: (10, 40)\n",
      "+--------------------------+------------------------------+----------+----------+-----------+--------+------------------+---------------+\n",
      "|     Classifier Name      | Dataset Category(train/test) | Accuracy | F1_Score | Precision | Recall | False Alarm Rate | ROC_AUC Score |\n",
      "+--------------------------+------------------------------+----------+----------+-----------+--------+------------------+---------------+\n",
      "| Random Forest Classifier |           test set           |   1.0    |   1.0    |    1.0    |  1.0   |       0.0        |      1.0      |\n",
      "+--------------------------+------------------------------+----------+----------+-----------+--------+------------------+---------------+\n"
     ]
    },
    {
     "data": {
      "image/png": "[encoded data removed]",
      "text/plain": [
       "<Figure size 1152x360 with 1 Axes>"
      ]
     },
     "metadata": {
      "needs_background": "light"
     },
     "output_type": "display_data"
    },
    {
     "data": {
      "image/png": "[encoded data removed]",
      "text/plain": [
       "<Figure size 1152x360 with 2 Axes>"
      ]
     },
     "metadata": {
      "needs_background": "light"
     },
     "output_type": "display_data"
    }
   ],
   "source": [
    "test_pred = final_fun_2(test_data, test_data_label)"
   ]
  },
  {
   "cell_type": "code",
   "execution_count": null,
   "metadata": {},
   "outputs": [],
   "source": []
  }
 ],
 "metadata": {
  "kernelspec": {
   "display_name": "Python 3",
   "language": "python",
   "name": "python3"
  },
  "language_info": {
   "codemirror_mode": {
    "name": "ipython",
    "version": 3
   },
   "file_extension": ".py",
   "mimetype": "text/x-python",
   "name": "python",
   "nbconvert_exporter": "python",
   "pygments_lexer": "ipython3",
   "version": "3.7.3"
  }
 },
 "nbformat": 4,
 "nbformat_minor": 2
}
